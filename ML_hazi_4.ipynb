{
  "nbformat": 4,
  "nbformat_minor": 0,
  "metadata": {
    "colab": {
      "name": "ML_hazi_4.ipynb",
      "provenance": [],
      "collapsed_sections": [],
      "include_colab_link": true
    },
    "kernelspec": {
      "name": "python3",
      "display_name": "Python 3"
    },
    "language_info": {
      "name": "python"
    },
    "accelerator": "GPU"
  },
  "cells": [
    {
      "cell_type": "markdown",
      "metadata": {
        "id": "view-in-github",
        "colab_type": "text"
      },
      "source": [
        "<a href=\"https://colab.research.google.com/github/fannijako/ML_course_hws/blob/main/ML_hazi_4.ipynb\" target=\"_parent\"><img src=\"https://colab.research.google.com/assets/colab-badge.svg\" alt=\"Open In Colab\"/></a>"
      ]
    },
    {
      "cell_type": "code",
      "source": [
        "!pip install yfinance"
      ],
      "metadata": {
        "colab": {
          "base_uri": "https://localhost:8080/"
        },
        "id": "y1huP2gmV7s-",
        "outputId": "716e4581-972f-4868-88ea-22014d2b2e53"
      },
      "execution_count": 2,
      "outputs": [
        {
          "output_type": "stream",
          "name": "stdout",
          "text": [
            "Collecting yfinance\n",
            "  Downloading yfinance-0.1.70-py2.py3-none-any.whl (26 kB)\n",
            "Requirement already satisfied: numpy>=1.15 in /usr/local/lib/python3.7/dist-packages (from yfinance) (1.21.5)\n",
            "Collecting requests>=2.26\n",
            "  Downloading requests-2.27.1-py2.py3-none-any.whl (63 kB)\n",
            "\u001b[K     |████████████████████████████████| 63 kB 1.6 MB/s \n",
            "\u001b[?25hRequirement already satisfied: multitasking>=0.0.7 in /usr/local/lib/python3.7/dist-packages (from yfinance) (0.0.10)\n",
            "Requirement already satisfied: pandas>=0.24.0 in /usr/local/lib/python3.7/dist-packages (from yfinance) (1.3.5)\n",
            "Collecting lxml>=4.5.1\n",
            "  Downloading lxml-4.8.0-cp37-cp37m-manylinux_2_17_x86_64.manylinux2014_x86_64.manylinux_2_24_x86_64.whl (6.4 MB)\n",
            "\u001b[K     |████████████████████████████████| 6.4 MB 27.5 MB/s \n",
            "\u001b[?25hRequirement already satisfied: pytz>=2017.3 in /usr/local/lib/python3.7/dist-packages (from pandas>=0.24.0->yfinance) (2018.9)\n",
            "Requirement already satisfied: python-dateutil>=2.7.3 in /usr/local/lib/python3.7/dist-packages (from pandas>=0.24.0->yfinance) (2.8.2)\n",
            "Requirement already satisfied: six>=1.5 in /usr/local/lib/python3.7/dist-packages (from python-dateutil>=2.7.3->pandas>=0.24.0->yfinance) (1.15.0)\n",
            "Requirement already satisfied: idna<4,>=2.5 in /usr/local/lib/python3.7/dist-packages (from requests>=2.26->yfinance) (2.10)\n",
            "Requirement already satisfied: charset-normalizer~=2.0.0 in /usr/local/lib/python3.7/dist-packages (from requests>=2.26->yfinance) (2.0.12)\n",
            "Requirement already satisfied: urllib3<1.27,>=1.21.1 in /usr/local/lib/python3.7/dist-packages (from requests>=2.26->yfinance) (1.24.3)\n",
            "Requirement already satisfied: certifi>=2017.4.17 in /usr/local/lib/python3.7/dist-packages (from requests>=2.26->yfinance) (2021.10.8)\n",
            "Installing collected packages: requests, lxml, yfinance\n",
            "  Attempting uninstall: requests\n",
            "    Found existing installation: requests 2.23.0\n",
            "    Uninstalling requests-2.23.0:\n",
            "      Successfully uninstalled requests-2.23.0\n",
            "  Attempting uninstall: lxml\n",
            "    Found existing installation: lxml 4.2.6\n",
            "    Uninstalling lxml-4.2.6:\n",
            "      Successfully uninstalled lxml-4.2.6\n",
            "\u001b[31mERROR: pip's dependency resolver does not currently take into account all the packages that are installed. This behaviour is the source of the following dependency conflicts.\n",
            "google-colab 1.0.0 requires requests~=2.23.0, but you have requests 2.27.1 which is incompatible.\n",
            "datascience 0.10.6 requires folium==0.2.1, but you have folium 0.8.3 which is incompatible.\u001b[0m\n",
            "Successfully installed lxml-4.8.0 requests-2.27.1 yfinance-0.1.70\n"
          ]
        }
      ]
    },
    {
      "cell_type": "code",
      "source": [
        "import pandas as pd\n",
        "import numpy as np\n",
        "import matplotlib.pyplot as plt\n",
        "\n",
        "from google.colab import drive\n",
        "\n",
        "import yfinance as yahooFinance\n",
        "\n",
        "from sklearn.model_selection import train_test_split\n",
        "from sklearn.preprocessing import StandardScaler\n",
        "\n",
        "import keras\n",
        "from tensorflow.keras.callbacks import EarlyStopping, TensorBoard\n",
        "from tensorflow.keras.layers import Conv1D, MaxPooling1D, Flatten, Dense, Dropout, Input, Conv2D, MaxPooling2D\n",
        "from tensorflow.keras.utils import plot_model, to_categorical, img_to_array\n",
        "from tensorflow.keras.metrics import MeanSquaredError\n",
        "\n",
        "from PIL import Image"
      ],
      "metadata": {
        "id": "jaC74vckE-_O"
      },
      "execution_count": 3,
      "outputs": []
    },
    {
      "cell_type": "code",
      "source": [
        "df = yahooFinance.Ticker(\"TSLA\")\n",
        "df = df.history(period=\"max\", auto_adjust=True)\n",
        "df"
      ],
      "metadata": {
        "colab": {
          "base_uri": "https://localhost:8080/",
          "height": 455
        },
        "id": "UnuzaCd3EU2h",
        "outputId": "4b14fdf7-abc7-4bb6-b408-cb08721595ce"
      },
      "execution_count": 4,
      "outputs": [
        {
          "output_type": "execute_result",
          "data": {
            "text/plain": [
              "                   Open         High          Low        Close    Volume  \\\n",
              "Date                                                                       \n",
              "2010-06-29     3.800000     5.000000     3.508000     4.778000  93831500   \n",
              "2010-06-30     5.158000     6.084000     4.660000     4.766000  85935500   \n",
              "2010-07-01     5.000000     5.184000     4.054000     4.392000  41094000   \n",
              "2010-07-02     4.600000     4.620000     3.742000     3.840000  25699000   \n",
              "2010-07-06     4.000000     4.000000     3.166000     3.222000  34334500   \n",
              "...                 ...          ...          ...          ...       ...   \n",
              "2022-04-04  1089.380005  1149.910034  1072.530029  1145.449951  27345300   \n",
              "2022-04-05  1136.300049  1152.869995  1087.300049  1091.260010  26691700   \n",
              "2022-04-06  1073.469971  1079.000000  1027.699951  1045.760010  29782800   \n",
              "2022-04-07  1052.390015  1076.589966  1021.539978  1057.260010  26482400   \n",
              "2022-04-08  1043.209961  1048.439941  1022.440002  1025.489990  18293300   \n",
              "\n",
              "            Dividends  Stock Splits  \n",
              "Date                                 \n",
              "2010-06-29          0           0.0  \n",
              "2010-06-30          0           0.0  \n",
              "2010-07-01          0           0.0  \n",
              "2010-07-02          0           0.0  \n",
              "2010-07-06          0           0.0  \n",
              "...               ...           ...  \n",
              "2022-04-04          0           0.0  \n",
              "2022-04-05          0           0.0  \n",
              "2022-04-06          0           0.0  \n",
              "2022-04-07          0           0.0  \n",
              "2022-04-08          0           0.0  \n",
              "\n",
              "[2967 rows x 7 columns]"
            ],
            "text/html": [
              "\n",
              "  <div id=\"df-2ba7cea4-8b8a-4190-844c-9c5c1e92cf35\">\n",
              "    <div class=\"colab-df-container\">\n",
              "      <div>\n",
              "<style scoped>\n",
              "    .dataframe tbody tr th:only-of-type {\n",
              "        vertical-align: middle;\n",
              "    }\n",
              "\n",
              "    .dataframe tbody tr th {\n",
              "        vertical-align: top;\n",
              "    }\n",
              "\n",
              "    .dataframe thead th {\n",
              "        text-align: right;\n",
              "    }\n",
              "</style>\n",
              "<table border=\"1\" class=\"dataframe\">\n",
              "  <thead>\n",
              "    <tr style=\"text-align: right;\">\n",
              "      <th></th>\n",
              "      <th>Open</th>\n",
              "      <th>High</th>\n",
              "      <th>Low</th>\n",
              "      <th>Close</th>\n",
              "      <th>Volume</th>\n",
              "      <th>Dividends</th>\n",
              "      <th>Stock Splits</th>\n",
              "    </tr>\n",
              "    <tr>\n",
              "      <th>Date</th>\n",
              "      <th></th>\n",
              "      <th></th>\n",
              "      <th></th>\n",
              "      <th></th>\n",
              "      <th></th>\n",
              "      <th></th>\n",
              "      <th></th>\n",
              "    </tr>\n",
              "  </thead>\n",
              "  <tbody>\n",
              "    <tr>\n",
              "      <th>2010-06-29</th>\n",
              "      <td>3.800000</td>\n",
              "      <td>5.000000</td>\n",
              "      <td>3.508000</td>\n",
              "      <td>4.778000</td>\n",
              "      <td>93831500</td>\n",
              "      <td>0</td>\n",
              "      <td>0.0</td>\n",
              "    </tr>\n",
              "    <tr>\n",
              "      <th>2010-06-30</th>\n",
              "      <td>5.158000</td>\n",
              "      <td>6.084000</td>\n",
              "      <td>4.660000</td>\n",
              "      <td>4.766000</td>\n",
              "      <td>85935500</td>\n",
              "      <td>0</td>\n",
              "      <td>0.0</td>\n",
              "    </tr>\n",
              "    <tr>\n",
              "      <th>2010-07-01</th>\n",
              "      <td>5.000000</td>\n",
              "      <td>5.184000</td>\n",
              "      <td>4.054000</td>\n",
              "      <td>4.392000</td>\n",
              "      <td>41094000</td>\n",
              "      <td>0</td>\n",
              "      <td>0.0</td>\n",
              "    </tr>\n",
              "    <tr>\n",
              "      <th>2010-07-02</th>\n",
              "      <td>4.600000</td>\n",
              "      <td>4.620000</td>\n",
              "      <td>3.742000</td>\n",
              "      <td>3.840000</td>\n",
              "      <td>25699000</td>\n",
              "      <td>0</td>\n",
              "      <td>0.0</td>\n",
              "    </tr>\n",
              "    <tr>\n",
              "      <th>2010-07-06</th>\n",
              "      <td>4.000000</td>\n",
              "      <td>4.000000</td>\n",
              "      <td>3.166000</td>\n",
              "      <td>3.222000</td>\n",
              "      <td>34334500</td>\n",
              "      <td>0</td>\n",
              "      <td>0.0</td>\n",
              "    </tr>\n",
              "    <tr>\n",
              "      <th>...</th>\n",
              "      <td>...</td>\n",
              "      <td>...</td>\n",
              "      <td>...</td>\n",
              "      <td>...</td>\n",
              "      <td>...</td>\n",
              "      <td>...</td>\n",
              "      <td>...</td>\n",
              "    </tr>\n",
              "    <tr>\n",
              "      <th>2022-04-04</th>\n",
              "      <td>1089.380005</td>\n",
              "      <td>1149.910034</td>\n",
              "      <td>1072.530029</td>\n",
              "      <td>1145.449951</td>\n",
              "      <td>27345300</td>\n",
              "      <td>0</td>\n",
              "      <td>0.0</td>\n",
              "    </tr>\n",
              "    <tr>\n",
              "      <th>2022-04-05</th>\n",
              "      <td>1136.300049</td>\n",
              "      <td>1152.869995</td>\n",
              "      <td>1087.300049</td>\n",
              "      <td>1091.260010</td>\n",
              "      <td>26691700</td>\n",
              "      <td>0</td>\n",
              "      <td>0.0</td>\n",
              "    </tr>\n",
              "    <tr>\n",
              "      <th>2022-04-06</th>\n",
              "      <td>1073.469971</td>\n",
              "      <td>1079.000000</td>\n",
              "      <td>1027.699951</td>\n",
              "      <td>1045.760010</td>\n",
              "      <td>29782800</td>\n",
              "      <td>0</td>\n",
              "      <td>0.0</td>\n",
              "    </tr>\n",
              "    <tr>\n",
              "      <th>2022-04-07</th>\n",
              "      <td>1052.390015</td>\n",
              "      <td>1076.589966</td>\n",
              "      <td>1021.539978</td>\n",
              "      <td>1057.260010</td>\n",
              "      <td>26482400</td>\n",
              "      <td>0</td>\n",
              "      <td>0.0</td>\n",
              "    </tr>\n",
              "    <tr>\n",
              "      <th>2022-04-08</th>\n",
              "      <td>1043.209961</td>\n",
              "      <td>1048.439941</td>\n",
              "      <td>1022.440002</td>\n",
              "      <td>1025.489990</td>\n",
              "      <td>18293300</td>\n",
              "      <td>0</td>\n",
              "      <td>0.0</td>\n",
              "    </tr>\n",
              "  </tbody>\n",
              "</table>\n",
              "<p>2967 rows × 7 columns</p>\n",
              "</div>\n",
              "      <button class=\"colab-df-convert\" onclick=\"convertToInteractive('df-2ba7cea4-8b8a-4190-844c-9c5c1e92cf35')\"\n",
              "              title=\"Convert this dataframe to an interactive table.\"\n",
              "              style=\"display:none;\">\n",
              "        \n",
              "  <svg xmlns=\"http://www.w3.org/2000/svg\" height=\"24px\"viewBox=\"0 0 24 24\"\n",
              "       width=\"24px\">\n",
              "    <path d=\"M0 0h24v24H0V0z\" fill=\"none\"/>\n",
              "    <path d=\"M18.56 5.44l.94 2.06.94-2.06 2.06-.94-2.06-.94-.94-2.06-.94 2.06-2.06.94zm-11 1L8.5 8.5l.94-2.06 2.06-.94-2.06-.94L8.5 2.5l-.94 2.06-2.06.94zm10 10l.94 2.06.94-2.06 2.06-.94-2.06-.94-.94-2.06-.94 2.06-2.06.94z\"/><path d=\"M17.41 7.96l-1.37-1.37c-.4-.4-.92-.59-1.43-.59-.52 0-1.04.2-1.43.59L10.3 9.45l-7.72 7.72c-.78.78-.78 2.05 0 2.83L4 21.41c.39.39.9.59 1.41.59.51 0 1.02-.2 1.41-.59l7.78-7.78 2.81-2.81c.8-.78.8-2.07 0-2.86zM5.41 20L4 18.59l7.72-7.72 1.47 1.35L5.41 20z\"/>\n",
              "  </svg>\n",
              "      </button>\n",
              "      \n",
              "  <style>\n",
              "    .colab-df-container {\n",
              "      display:flex;\n",
              "      flex-wrap:wrap;\n",
              "      gap: 12px;\n",
              "    }\n",
              "\n",
              "    .colab-df-convert {\n",
              "      background-color: #E8F0FE;\n",
              "      border: none;\n",
              "      border-radius: 50%;\n",
              "      cursor: pointer;\n",
              "      display: none;\n",
              "      fill: #1967D2;\n",
              "      height: 32px;\n",
              "      padding: 0 0 0 0;\n",
              "      width: 32px;\n",
              "    }\n",
              "\n",
              "    .colab-df-convert:hover {\n",
              "      background-color: #E2EBFA;\n",
              "      box-shadow: 0px 1px 2px rgba(60, 64, 67, 0.3), 0px 1px 3px 1px rgba(60, 64, 67, 0.15);\n",
              "      fill: #174EA6;\n",
              "    }\n",
              "\n",
              "    [theme=dark] .colab-df-convert {\n",
              "      background-color: #3B4455;\n",
              "      fill: #D2E3FC;\n",
              "    }\n",
              "\n",
              "    [theme=dark] .colab-df-convert:hover {\n",
              "      background-color: #434B5C;\n",
              "      box-shadow: 0px 1px 3px 1px rgba(0, 0, 0, 0.15);\n",
              "      filter: drop-shadow(0px 1px 2px rgba(0, 0, 0, 0.3));\n",
              "      fill: #FFFFFF;\n",
              "    }\n",
              "  </style>\n",
              "\n",
              "      <script>\n",
              "        const buttonEl =\n",
              "          document.querySelector('#df-2ba7cea4-8b8a-4190-844c-9c5c1e92cf35 button.colab-df-convert');\n",
              "        buttonEl.style.display =\n",
              "          google.colab.kernel.accessAllowed ? 'block' : 'none';\n",
              "\n",
              "        async function convertToInteractive(key) {\n",
              "          const element = document.querySelector('#df-2ba7cea4-8b8a-4190-844c-9c5c1e92cf35');\n",
              "          const dataTable =\n",
              "            await google.colab.kernel.invokeFunction('convertToInteractive',\n",
              "                                                     [key], {});\n",
              "          if (!dataTable) return;\n",
              "\n",
              "          const docLinkHtml = 'Like what you see? Visit the ' +\n",
              "            '<a target=\"_blank\" href=https://colab.research.google.com/notebooks/data_table.ipynb>data table notebook</a>'\n",
              "            + ' to learn more about interactive tables.';\n",
              "          element.innerHTML = '';\n",
              "          dataTable['output_type'] = 'display_data';\n",
              "          await google.colab.output.renderOutput(dataTable, element);\n",
              "          const docLink = document.createElement('div');\n",
              "          docLink.innerHTML = docLinkHtml;\n",
              "          element.appendChild(docLink);\n",
              "        }\n",
              "      </script>\n",
              "    </div>\n",
              "  </div>\n",
              "  "
            ]
          },
          "metadata": {},
          "execution_count": 4
        }
      ]
    },
    {
      "cell_type": "code",
      "source": [
        "df = df['Close']\n",
        "df = pd.DataFrame(df).to_numpy()"
      ],
      "metadata": {
        "id": "QFQfoedzE6n_"
      },
      "execution_count": 5,
      "outputs": []
    },
    {
      "cell_type": "code",
      "source": [
        "def split_sequence(sequence, n_steps):\n",
        "\tx, y = list(), list()\n",
        "\t\n",
        "\tfor i in range(len(sequence)):\n",
        "\t\tend_ix = i + n_steps # Az adott szekvencia-darab utolsó eleme\n",
        "\t\t\n",
        "\t\tif end_ix > len(sequence)-1: # Ellenőrizzük nem értünk-e a teljes lista végére\n",
        "\t\t\tbreak\n",
        "\t\t\n",
        "\t\tseq_x, seq_y = sequence[i:end_ix], sequence[end_ix] # Kimentjük a szekvencia darabot és az utolsó elemet mint eredményváltozó\n",
        "\t\tx.append(seq_x)\n",
        "\t\ty.append(seq_y)\n",
        "\t\n",
        "\treturn np.array(x), np.array(y)"
      ],
      "metadata": {
        "id": "L6eoTedZFuOc"
      },
      "execution_count": 6,
      "outputs": []
    },
    {
      "cell_type": "code",
      "source": [
        "x, y = split_sequence(df, 10)\n",
        "x_train, x_test, y_train, y_test = train_test_split(x, y, test_size=0.15, shuffle=True)"
      ],
      "metadata": {
        "id": "R3rjI9quFxd0"
      },
      "execution_count": 7,
      "outputs": []
    },
    {
      "cell_type": "code",
      "source": [
        "#Alexnet\n",
        "\n",
        "input = Input(shape=(10,1))\n",
        "\n",
        "x=Conv1D(filters=128, kernel_size=3, strides=1, activation='relu')(input)\n",
        "x=MaxPooling1D(pool_size=2, strides=2)(x)\n",
        "x=Conv1D(filters=128, kernel_size=3, strides=1, activation='relu')(x)\n",
        "x =MaxPooling1D(pool_size=2, strides=2)(x)\n",
        "x=Flatten()(x)\n",
        "\n",
        "x=Dense(4096, activation='relu')(x)\n",
        "x=Dropout(0.2)(x)\n",
        "x=Dense(4096, activation='relu')(x)\n",
        "x=Dropout(0.2)(x)\n",
        "\n",
        "output = Dense(1, activation='linear')(x)"
      ],
      "metadata": {
        "id": "9R_bnSwLF_qV"
      },
      "execution_count": 8,
      "outputs": []
    },
    {
      "cell_type": "code",
      "source": [
        "model = keras.Model(input, output)\n",
        "model.compile(optimizer='adam', loss='MSE')\n",
        "early_stopping_callback = EarlyStopping(patience=5, restore_best_weights=True)\n",
        "model.fit(x_train, y_train, epochs=200, validation_split=0.2, callbacks=[early_stopping_callback])"
      ],
      "metadata": {
        "id": "E_yLrBRvGPvN",
        "colab": {
          "base_uri": "https://localhost:8080/"
        },
        "outputId": "904ddf56-efd4-493a-c77c-b61b8cb4f6a3"
      },
      "execution_count": 9,
      "outputs": [
        {
          "output_type": "stream",
          "name": "stdout",
          "text": [
            "Epoch 1/200\n",
            "63/63 [==============================] - 15s 36ms/step - loss: 2926.3152 - val_loss: 1016.3906\n",
            "Epoch 2/200\n",
            "63/63 [==============================] - 1s 23ms/step - loss: 809.1357 - val_loss: 1121.3232\n",
            "Epoch 3/200\n",
            "63/63 [==============================] - 2s 27ms/step - loss: 687.5440 - val_loss: 392.0752\n",
            "Epoch 4/200\n",
            "63/63 [==============================] - 1s 20ms/step - loss: 752.0078 - val_loss: 718.2732\n",
            "Epoch 5/200\n",
            "63/63 [==============================] - 1s 15ms/step - loss: 584.3673 - val_loss: 323.7473\n",
            "Epoch 6/200\n",
            "63/63 [==============================] - 1s 14ms/step - loss: 1336.8754 - val_loss: 509.6552\n",
            "Epoch 7/200\n",
            "63/63 [==============================] - 1s 15ms/step - loss: 853.0012 - val_loss: 1045.5051\n",
            "Epoch 8/200\n",
            "63/63 [==============================] - 1s 14ms/step - loss: 593.0462 - val_loss: 274.4294\n",
            "Epoch 9/200\n",
            "63/63 [==============================] - 1s 14ms/step - loss: 850.9961 - val_loss: 706.6307\n",
            "Epoch 10/200\n",
            "63/63 [==============================] - 1s 14ms/step - loss: 622.0544 - val_loss: 445.7746\n",
            "Epoch 11/200\n",
            "63/63 [==============================] - 1s 14ms/step - loss: 2030.2789 - val_loss: 341.5457\n",
            "Epoch 12/200\n",
            "63/63 [==============================] - 1s 14ms/step - loss: 590.4203 - val_loss: 610.0178\n",
            "Epoch 13/200\n",
            "63/63 [==============================] - 1s 14ms/step - loss: 637.1064 - val_loss: 463.8462\n"
          ]
        },
        {
          "output_type": "execute_result",
          "data": {
            "text/plain": [
              "<keras.callbacks.History at 0x7fd679c71a90>"
            ]
          },
          "metadata": {},
          "execution_count": 9
        }
      ]
    },
    {
      "cell_type": "code",
      "source": [
        "AlexNet=keras.Model(input, output)\n",
        "model.evaluate(x_test, y_test)"
      ],
      "metadata": {
        "id": "uglFalevHGIK",
        "colab": {
          "base_uri": "https://localhost:8080/"
        },
        "outputId": "e61a6ca8-21b0-4680-d01d-7f6497780e4f"
      },
      "execution_count": 10,
      "outputs": [
        {
          "output_type": "stream",
          "name": "stdout",
          "text": [
            "14/14 [==============================] - 0s 6ms/step - loss: 178.1095\n"
          ]
        },
        {
          "output_type": "execute_result",
          "data": {
            "text/plain": [
              "178.10951232910156"
            ]
          },
          "metadata": {},
          "execution_count": 10
        }
      ]
    },
    {
      "cell_type": "markdown",
      "source": [
        "## Képek"
      ],
      "metadata": {
        "id": "dOxXW-rfHQwa"
      }
    },
    {
      "cell_type": "code",
      "source": [
        "(x_train, y_train), (x_test, y_test) = keras.datasets.cifar10.load_data()\n",
        "class_names = ['repulo', 'auto', 'madar', 'macska', 'szarvas', 'kutya', 'beka', 'lo', 'hajo', 'kamion']"
      ],
      "metadata": {
        "colab": {
          "base_uri": "https://localhost:8080/"
        },
        "id": "ZaXukLTmHP_z",
        "outputId": "c574698f-5ea0-4a43-ccad-8687fd8d42b7"
      },
      "execution_count": 11,
      "outputs": [
        {
          "output_type": "stream",
          "name": "stdout",
          "text": [
            "Downloading data from https://www.cs.toronto.edu/~kriz/cifar-10-python.tar.gz\n",
            "170500096/170498071 [==============================] - 6s 0us/step\n",
            "170508288/170498071 [==============================] - 6s 0us/step\n"
          ]
        }
      ]
    },
    {
      "cell_type": "code",
      "source": [
        "drive.mount('/content/drive')\n",
        "lo = plt.imread('/content/drive/My Drive/ML kurzus/ló.jpg')\n",
        "bicikli = plt.imread('/content/drive/My Drive/ML kurzus/bicikli.jpg')\n",
        "helikopter = plt.imread('/content/drive/My Drive/ML kurzus/helikopter.jpg')"
      ],
      "metadata": {
        "colab": {
          "base_uri": "https://localhost:8080/"
        },
        "id": "849cZvOyIC5W",
        "outputId": "c0a759e2-e688-4cb2-e236-e55bd87ca1af"
      },
      "execution_count": 12,
      "outputs": [
        {
          "output_type": "stream",
          "name": "stdout",
          "text": [
            "Mounted at /content/drive\n"
          ]
        }
      ]
    },
    {
      "cell_type": "code",
      "source": [
        "x_train = x_train.astype('float32') / 255\n",
        "x_test = x_test.astype('float32') / 255\n",
        "y_train = to_categorical(y_train, num_classes=len(class_names))\n",
        "y_test = to_categorical(y_test, num_classes=len(class_names))"
      ],
      "metadata": {
        "id": "9ZPTeaHmIuOO"
      },
      "execution_count": 13,
      "outputs": []
    },
    {
      "cell_type": "code",
      "source": [
        "input = Input(shape=(32,32,3))\n",
        "\n",
        "x = Conv2D(filters=64, kernel_size=5, strides=4, activation='relu', padding='same')(input)\n",
        "x = MaxPooling2D(pool_size=2, strides=2)(x)\n",
        "x = Conv2D(filters=256, kernel_size=5, activation='relu', padding='same')(x)\n",
        "x = MaxPooling2D(pool_size=2, strides=2)(x)\n",
        "x = Conv2D(filters=384, kernel_size=3, activation='relu', padding='same')(x)\n",
        "x = Conv2D(filters=384, kernel_size=3, activation='relu', padding='same')(x)\n",
        "x = Conv2D(filters=192, kernel_size=3, activation='relu', padding='same')(x)\n",
        "x = MaxPooling2D(pool_size=2, strides=2)(x)\n",
        "x = Flatten()(x)\n",
        "\n",
        "x = Dense(4096, activation='relu')(x)\n",
        "x = Dropout(0.2)(x)\n",
        "x = Dense(4096, activation='relu')(x)\n",
        "x = Dropout(0.4)(x)\n",
        "\n",
        "output = Dense(len(class_names), activation='softmax')(x)"
      ],
      "metadata": {
        "id": "af-5yAA8JZjU"
      },
      "execution_count": 14,
      "outputs": []
    },
    {
      "cell_type": "code",
      "source": [
        "AlexNet = keras.Model(input, output)\n",
        "early_stopping_callback = EarlyStopping(patience=3, restore_best_weights=True)\n",
        "tensorboard_callback = TensorBoard('logs/run1')\n",
        "AlexNet.compile('adam', loss='categorical_crossentropy', metrics=['accuracy'])\n",
        "AlexNet.fit(x_train, y_train, epochs=100, validation_split=0.1,callbacks=[early_stopping_callback, tensorboard_callback])"
      ],
      "metadata": {
        "id": "bF5wW32pJcYM",
        "colab": {
          "base_uri": "https://localhost:8080/"
        },
        "outputId": "379ae6bf-156e-4ca9-b948-00e662dfc81d"
      },
      "execution_count": 15,
      "outputs": [
        {
          "output_type": "stream",
          "name": "stdout",
          "text": [
            "Epoch 1/100\n",
            "1407/1407 [==============================] - 38s 26ms/step - loss: 2.3031 - accuracy: 0.1020 - val_loss: 2.3029 - val_accuracy: 0.0976\n",
            "Epoch 2/100\n",
            "1407/1407 [==============================] - 35s 25ms/step - loss: 2.3028 - accuracy: 0.1005 - val_loss: 2.3027 - val_accuracy: 0.0970\n",
            "Epoch 3/100\n",
            "1407/1407 [==============================] - 35s 25ms/step - loss: 2.3028 - accuracy: 0.0970 - val_loss: 2.3031 - val_accuracy: 0.0950\n",
            "Epoch 4/100\n",
            "1407/1407 [==============================] - 35s 25ms/step - loss: 2.3028 - accuracy: 0.0991 - val_loss: 2.3028 - val_accuracy: 0.0976\n",
            "Epoch 5/100\n",
            "1407/1407 [==============================] - 35s 25ms/step - loss: 2.3028 - accuracy: 0.0982 - val_loss: 2.3029 - val_accuracy: 0.0986\n"
          ]
        },
        {
          "output_type": "execute_result",
          "data": {
            "text/plain": [
              "<keras.callbacks.History at 0x7fd670393e50>"
            ]
          },
          "metadata": {},
          "execution_count": 15
        }
      ]
    },
    {
      "cell_type": "code",
      "source": [
        "AlexNet.predict(x_test)"
      ],
      "metadata": {
        "id": "zkgjNMHGJp_7",
        "colab": {
          "base_uri": "https://localhost:8080/"
        },
        "outputId": "76fb0630-05c4-493b-c722-46339dd9a99d"
      },
      "execution_count": 16,
      "outputs": [
        {
          "output_type": "execute_result",
          "data": {
            "text/plain": [
              "array([[0.09830204, 0.09844925, 0.10091174, ..., 0.10322863, 0.09797035,\n",
              "        0.10038666],\n",
              "       [0.09830204, 0.09844925, 0.10091174, ..., 0.10322863, 0.09797035,\n",
              "        0.10038666],\n",
              "       [0.09830204, 0.09844925, 0.10091174, ..., 0.10322863, 0.09797035,\n",
              "        0.10038666],\n",
              "       ...,\n",
              "       [0.09830204, 0.09844925, 0.10091174, ..., 0.10322863, 0.09797035,\n",
              "        0.10038666],\n",
              "       [0.09830204, 0.09844925, 0.10091174, ..., 0.10322863, 0.09797035,\n",
              "        0.10038666],\n",
              "       [0.09830204, 0.09844925, 0.10091174, ..., 0.10322863, 0.09797035,\n",
              "        0.10038666]], dtype=float32)"
            ]
          },
          "metadata": {},
          "execution_count": 16
        }
      ]
    },
    {
      "cell_type": "code",
      "source": [
        "AlexNet.evaluate(x_test, y_test)"
      ],
      "metadata": {
        "id": "XTF5SH_sJp9K",
        "colab": {
          "base_uri": "https://localhost:8080/"
        },
        "outputId": "d646a013-a822-43ad-eb58-699f9345b5e8"
      },
      "execution_count": 17,
      "outputs": [
        {
          "output_type": "stream",
          "name": "stdout",
          "text": [
            "313/313 [==============================] - 3s 8ms/step - loss: 2.3027 - accuracy: 0.1000\n"
          ]
        },
        {
          "output_type": "execute_result",
          "data": {
            "text/plain": [
              "[2.302722930908203, 0.10000000149011612]"
            ]
          },
          "metadata": {},
          "execution_count": 17
        }
      ]
    },
    {
      "cell_type": "code",
      "source": [
        "lo = Image.open('/content/drive/My Drive/ML kurzus/ló.jpg')\n",
        "helikopter = Image.open('/content/drive/My Drive/ML kurzus/helikopter.jpg')\n",
        "bicikli = Image.open('/content/drive/My Drive/ML kurzus/bicikli.jpg')"
      ],
      "metadata": {
        "id": "_xtUaXFEKbSx"
      },
      "execution_count": 19,
      "outputs": []
    },
    {
      "cell_type": "code",
      "source": [
        "lo = lo.resize((32, 32))\n",
        "lo = img_to_array(lo)\n",
        "\n",
        "helikopter = helikopter.resize((32, 32))\n",
        "helikopter = img_to_array(helikopter)\n",
        "\n",
        "bicikli = bicikli.resize((32, 32))\n",
        "bicikli = img_to_array(bicikli)\n",
        "\n",
        "pics = np.array([lo, helikopter, bicikli])\n",
        "pics = pics.astype('float32') / 255"
      ],
      "metadata": {
        "id": "UD5AUEaZKRVR"
      },
      "execution_count": 20,
      "outputs": []
    },
    {
      "cell_type": "code",
      "source": [
        "AlexNet.predict(pics)"
      ],
      "metadata": {
        "id": "rHJ2W-YULlzS",
        "colab": {
          "base_uri": "https://localhost:8080/"
        },
        "outputId": "ee71bde7-4f9c-42f1-c905-78331453b1bf"
      },
      "execution_count": 23,
      "outputs": [
        {
          "output_type": "execute_result",
          "data": {
            "text/plain": [
              "array([[0.09830204, 0.09844925, 0.10091174, 0.09993123, 0.09858728,\n",
              "        0.10220612, 0.10002668, 0.10322863, 0.09797035, 0.10038666],\n",
              "       [0.09830204, 0.09844925, 0.10091174, 0.09993123, 0.09858728,\n",
              "        0.10220612, 0.10002668, 0.10322863, 0.09797035, 0.10038666],\n",
              "       [0.09830204, 0.09844925, 0.10091174, 0.09993123, 0.09858728,\n",
              "        0.10220612, 0.10002668, 0.10322863, 0.09797035, 0.10038666]],\n",
              "      dtype=float32)"
            ]
          },
          "metadata": {},
          "execution_count": 23
        }
      ]
    }
  ]
}